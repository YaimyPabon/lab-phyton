{
 "cells": [
  {
   "cell_type": "markdown",
   "id": "f942d288-be01-42cd-9b84-83529c6769be",
   "metadata": {},
   "source": [
    "### Reduction operation: the sum of the numbers in the range [0, a)"
   ]
  },
  {
   "cell_type": "markdown",
   "id": "154c00dc-cb2e-4cbd-9d47-56461f2fc2f3",
   "metadata": {},
   "source": [
    "CÓDIGO ORIGINAL "
   ]
  },
  {
   "cell_type": "code",
   "execution_count": 13,
   "id": "86e4f8f4-7132-4f2c-8cea-2183796fba98",
   "metadata": {},
   "outputs": [
    {
     "name": "stdout",
     "output_type": "stream",
     "text": [
      "Time taken by reduction operation: 0.2821805477142334 seconds\n",
      "256 ms ± 673 µs per loop (mean ± std. dev. of 2 runs, 1 loop each)\n",
      "\n",
      " \t Computing the sum of numbers in the range [0, value): 499999500000\n",
      "\n"
     ]
    }
   ],
   "source": [
    "import time\n",
    "\n",
    "def reduc_operation(a):\n",
    "    \"\"\"Compute the sum of the numbers in the range [0, a).\"\"\"\n",
    "    x = 0\n",
    "    for i in range(a):\n",
    "        x += i\n",
    "    return x\n",
    "\n",
    "# Secuencial\n",
    "\n",
    "value = 1000000\n",
    "\n",
    "initialTime = time.time()\n",
    "suma = reduc_operation(value)\n",
    "finalTime = time.time()\n",
    "\n",
    "print(\"Time taken by reduction operation:\", (finalTime - initialTime), \"seconds\")\n",
    "\n",
    "# Utilizando las operaciones mágicas de ipython\n",
    "%timeit -r 2 reduc_operation(value)\n",
    "\n",
    "print(f\"\\n \\t Computing the sum of numbers in the range [0, value): {suma}\\n\")"
   ]
  },
  {
   "cell_type": "markdown",
   "id": "2b06382f-5f46-4460-bfd9-fe9ea76910a0",
   "metadata": {},
   "source": [
    "3.2a) CÓDIGO USANDO LISTAS"
   ]
  },
  {
   "cell_type": "code",
   "execution_count": 5,
   "id": "117bd873-9b2d-4fa9-8133-10e27481fe00",
   "metadata": {},
   "outputs": [
    {
     "name": "stdout",
     "output_type": "stream",
     "text": [
      "Time taken by for loop: 0.22751212120056152 seconds\n",
      "Time taken by sum function: 0.02989482879638672 seconds\n",
      "\n",
      "Using %timeit magic command (for loop):\n",
      "224 ms ± 1.48 ms per loop (mean ± std. dev. of 2 runs, 1 loop each)\n",
      "\n",
      "Using %timeit magic command (sum function):\n",
      "30 ms ± 90.7 µs per loop (mean ± std. dev. of 2 runs, 10 loops each)\n",
      "\n",
      "Total sum computed by for loop: 499999500000\n",
      "Total sum computed by sum function: 499999500000\n"
     ]
    }
   ],
   "source": [
    "import time\n",
    "\n",
    "# Crear la lista con 10**6 elementos usando range\n",
    "value = 1000000\n",
    "mi_lista = list(range(value))\n",
    "\n",
    "# a) Usando un bucle for\n",
    "def suma_con_for(mi_lista):\n",
    "    initialTime = time.time()\n",
    "    total_for = 0\n",
    "    for num in mi_lista:\n",
    "        total_for += num\n",
    "    finalTime = time.time()\n",
    "    return total_for, (finalTime - initialTime)\n",
    "\n",
    "# b) Usando la función sum\n",
    "def suma_con_sum(mi_lista):\n",
    "    initialTime = time.time()\n",
    "    total_sum = sum(mi_lista)\n",
    "    finalTime = time.time()\n",
    "    return total_sum, (finalTime - initialTime)\n",
    "\n",
    "# Medir tiempo usando las funciones\n",
    "total_for, tiempo_for = suma_con_for(mi_lista)\n",
    "total_sum, tiempo_sum = suma_con_sum(mi_lista)\n",
    "\n",
    "# Mostrar los resultados\n",
    "print(\"Time taken by for loop:\", tiempo_for, \"seconds\")\n",
    "print(\"Time taken by sum function:\", tiempo_sum, \"seconds\")\n",
    "\n",
    "print(\"\\nUsing %timeit magic command (for loop):\")\n",
    "%timeit -r 2 suma_con_for(mi_lista)\n",
    "\n",
    "print(\"\\nUsing %timeit magic command (sum function):\")\n",
    "%timeit -r 2 suma_con_sum(mi_lista)\n",
    "\n",
    "print(f\"\\nTotal sum computed by for loop: {total_for}\")\n",
    "print(f\"Total sum computed by sum function: {total_sum}\")\n"
   ]
  },
  {
   "cell_type": "markdown",
   "id": "4b772585-dcf2-4027-b79b-a5adf412de0a",
   "metadata": {},
   "source": [
    "3.2b) CÓDIGO USANDO NUMPY"
   ]
  },
  {
   "cell_type": "code",
   "execution_count": 7,
   "id": "8017c496-1be7-4381-ba89-1643eb306a68",
   "metadata": {},
   "outputs": [
    {
     "name": "stdout",
     "output_type": "stream",
     "text": [
      "Time taken by for loop: 0.6532104015350342 seconds\n",
      "Time taken by NumPy sum function: 0.0013697147369384766 seconds\n",
      "\n",
      "Using %timeit magic command (for loop):\n",
      "632 ms ± 6.12 ms per loop (mean ± std. dev. of 2 runs, 1 loop each)\n",
      "\n",
      "Using %timeit magic command (sum function):\n",
      "1.36 ms ± 1.32 µs per loop (mean ± std. dev. of 2 runs, 1,000 loops each)\n",
      "\n",
      "Total sum computed by for loop: 499999500000\n",
      "Total sum computed by NumPy sum function: 499999500000\n"
     ]
    }
   ],
   "source": [
    "import time\n",
    "import numpy as np\n",
    "\n",
    "# Convertir la lista a un array de numpy\n",
    "mi_array = np.array(mi_lista)\n",
    "\n",
    "# a) Usando un bucle for\n",
    "def suma_con_for(mi_array):\n",
    "    initialTime = time.time()\n",
    "    total_for = 0\n",
    "    for num in mi_array:\n",
    "        total_for += num\n",
    "    finalTime = time.time()\n",
    "    return total_for, (finalTime - initialTime)\n",
    "\n",
    "# b) Usando la función sum de NumPy\n",
    "def suma_con_sum(mi_array):\n",
    "    initialTime = time.time()\n",
    "    total_sum = np.sum(mi_array)\n",
    "    finalTime = time.time()\n",
    "    return total_sum, (finalTime - initialTime)\n",
    "\n",
    "# Medir tiempo usando las funciones\n",
    "total_for, tiempo_for = suma_con_for(mi_array)\n",
    "total_sum, tiempo_sum = suma_con_sum(mi_array)\n",
    "\n",
    "# Mostrar los resultados\n",
    "print(\"Time taken by for loop:\", tiempo_for, \"seconds\")\n",
    "print(\"Time taken by NumPy sum function:\", tiempo_sum, \"seconds\")\n",
    "\n",
    "print(\"\\nUsing %timeit magic command (for loop):\")\n",
    "%timeit -r 2 suma_con_for(mi_array)\n",
    "\n",
    "print(\"\\nUsing %timeit magic command (sum function):\")\n",
    "%timeit -r 2 suma_con_sum(mi_array)\n",
    "\n",
    "print(f\"\\nTotal sum computed by for loop: {total_for}\")\n",
    "print(f\"Total sum computed by NumPy sum function: {total_sum}\")\n"
   ]
  },
  {
   "cell_type": "markdown",
   "id": "2a49277d-5784-484d-8d0a-f8535b66cd91",
   "metadata": {},
   "source": [
    "3.2c) EXPLICACIÓN DE RESULTADOS\n",
    "Tras comparar los resultados de la ejecución del código original, listas y usando numpy; he podido observar como el uso del bucle for, era menos eficiente en cada caso que el uso de la función sum, esto se debe a que Python al usar el bucle for tiene que iterar explícitamente sobre cada elemento de la lista. Por otro lado el uso de la función sum, esta optimizada en C y el tiempo de ejecución se reduce aprovechando la velocidad del lenguaje compilado. Pero al usar numpy que tambien esta escrita en C se aprovecha que esta ha sido diseñada específicamente para operaciones numéricas y esta altamente optizada para el trabajo con gran cantidad de datos, observando que el tiempo de ejecución es aún menor."
   ]
  }
 ],
 "metadata": {
  "kernelspec": {
   "display_name": "Python 3 (ipykernel)",
   "language": "python",
   "name": "python3"
  },
  "language_info": {
   "codemirror_mode": {
    "name": "ipython",
    "version": 3
   },
   "file_extension": ".py",
   "mimetype": "text/x-python",
   "name": "python",
   "nbconvert_exporter": "python",
   "pygments_lexer": "ipython3",
   "version": "3.10.9"
  }
 },
 "nbformat": 4,
 "nbformat_minor": 5
}
